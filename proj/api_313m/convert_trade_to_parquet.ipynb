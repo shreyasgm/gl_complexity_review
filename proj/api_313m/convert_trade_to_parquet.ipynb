{
 "cells": [
  {
   "cell_type": "code",
   "execution_count": 1,
   "metadata": {},
   "outputs": [],
   "source": [
    "import pandas as pd\n",
    "from pathlib import Path\n",
    "import os\n"
   ]
  },
  {
   "cell_type": "code",
   "execution_count": 4,
   "metadata": {},
   "outputs": [],
   "source": [
    "PROJ = Path(os.path.realpath(\".\"))\n",
    "ROOT = PROJ.parents[1]\n"
   ]
  },
  {
   "cell_type": "code",
   "execution_count": 9,
   "metadata": {},
   "outputs": [
    {
     "data": {
      "text/html": [
       "<div>\n",
       "<style scoped>\n",
       "    .dataframe tbody tr th:only-of-type {\n",
       "        vertical-align: middle;\n",
       "    }\n",
       "\n",
       "    .dataframe tbody tr th {\n",
       "        vertical-align: top;\n",
       "    }\n",
       "\n",
       "    .dataframe thead th {\n",
       "        text-align: right;\n",
       "    }\n",
       "</style>\n",
       "<table border=\"1\" class=\"dataframe\">\n",
       "  <thead>\n",
       "    <tr style=\"text-align: right;\">\n",
       "      <th></th>\n",
       "      <th>location_id</th>\n",
       "      <th>product_id</th>\n",
       "      <th>year</th>\n",
       "      <th>export_value</th>\n",
       "      <th>import_value</th>\n",
       "      <th>export_rca</th>\n",
       "      <th>product_status</th>\n",
       "      <th>cog</th>\n",
       "      <th>distance</th>\n",
       "      <th>normalized_distance</th>\n",
       "      <th>normalized_cog</th>\n",
       "      <th>normalized_pci</th>\n",
       "      <th>export_rpop</th>\n",
       "      <th>is_new</th>\n",
       "      <th>hs_eci</th>\n",
       "      <th>hs_coi</th>\n",
       "      <th>pci</th>\n",
       "      <th>location_code</th>\n",
       "      <th>hs_product_code</th>\n",
       "    </tr>\n",
       "  </thead>\n",
       "  <tbody>\n",
       "    <tr>\n",
       "      <th>0</th>\n",
       "      <td>0</td>\n",
       "      <td>650</td>\n",
       "      <td>1995</td>\n",
       "      <td>18008</td>\n",
       "      <td>7200</td>\n",
       "      <td>0.133305</td>\n",
       "      <td>NaN</td>\n",
       "      <td>0.001366</td>\n",
       "      <td>0.987482</td>\n",
       "      <td>1.315366</td>\n",
       "      <td>-0.212899</td>\n",
       "      <td>0.028159</td>\n",
       "      <td>0.0</td>\n",
       "      <td>False</td>\n",
       "      <td>-0.468199</td>\n",
       "      <td>-0.696722</td>\n",
       "      <td>0.036665</td>\n",
       "      <td>ABW</td>\n",
       "      <td>0101</td>\n",
       "    </tr>\n",
       "    <tr>\n",
       "      <th>1</th>\n",
       "      <td>0</td>\n",
       "      <td>650</td>\n",
       "      <td>1996</td>\n",
       "      <td>0</td>\n",
       "      <td>4021</td>\n",
       "      <td>0.000000</td>\n",
       "      <td>NaN</td>\n",
       "      <td>0.000852</td>\n",
       "      <td>0.992846</td>\n",
       "      <td>1.156393</td>\n",
       "      <td>-0.355658</td>\n",
       "      <td>-0.052312</td>\n",
       "      <td>0.0</td>\n",
       "      <td>False</td>\n",
       "      <td>-0.663174</td>\n",
       "      <td>-0.704138</td>\n",
       "      <td>-0.047203</td>\n",
       "      <td>ABW</td>\n",
       "      <td>0101</td>\n",
       "    </tr>\n",
       "  </tbody>\n",
       "</table>\n",
       "</div>"
      ],
      "text/plain": [
       "   location_id  product_id  year  export_value  import_value  export_rca  \\\n",
       "0            0         650  1995         18008          7200    0.133305   \n",
       "1            0         650  1996             0          4021    0.000000   \n",
       "\n",
       "  product_status       cog  distance  normalized_distance  normalized_cog  \\\n",
       "0            NaN  0.001366  0.987482             1.315366       -0.212899   \n",
       "1            NaN  0.000852  0.992846             1.156393       -0.355658   \n",
       "\n",
       "   normalized_pci  export_rpop  is_new    hs_eci    hs_coi       pci  \\\n",
       "0        0.028159          0.0   False -0.468199 -0.696722  0.036665   \n",
       "1       -0.052312          0.0   False -0.663174 -0.704138 -0.047203   \n",
       "\n",
       "  location_code hs_product_code  \n",
       "0           ABW            0101  \n",
       "1           ABW            0101  "
      ]
     },
     "execution_count": 9,
     "metadata": {},
     "output_type": "execute_result"
    }
   ],
   "source": [
    "trade = pd.read_csv(ROOT / \"data/raw/country_hsproduct4digit_year.csv\", low_memory=False)\n",
    "trade.head(2)\n"
   ]
  },
  {
   "cell_type": "code",
   "execution_count": 10,
   "metadata": {},
   "outputs": [],
   "source": [
    "trade.to_parquet(\n",
    "    ROOT / \"data/raw/country_hsproduct4digit_year.parquet\",\n",
    "    index=False,\n",
    "    engine=\"pyarrow\",\n",
    ")\n"
   ]
  },
  {
   "cell_type": "code",
   "execution_count": null,
   "metadata": {},
   "outputs": [],
   "source": []
  }
 ],
 "metadata": {
  "interpreter": {
   "hash": "1e83c490e3d2fe20339f7a5a30b68b80f750075f10d31ead6fdee1a2515d27b2"
  },
  "kernelspec": {
   "display_name": "Python 3.10.1 ('localcid')",
   "language": "python",
   "name": "python3"
  },
  "language_info": {
   "codemirror_mode": {
    "name": "ipython",
    "version": 3
   },
   "file_extension": ".py",
   "mimetype": "text/x-python",
   "name": "python",
   "nbconvert_exporter": "python",
   "pygments_lexer": "ipython3",
   "version": "3.10.1"
  },
  "orig_nbformat": 4
 },
 "nbformat": 4,
 "nbformat_minor": 2
}
