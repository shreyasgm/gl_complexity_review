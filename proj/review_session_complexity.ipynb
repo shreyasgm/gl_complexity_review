{
 "cells": [
  {
   "cell_type": "markdown",
   "id": "f29bee30-f669-4cd1-adbe-b8f9545c0288",
   "metadata": {},
   "source": [
    "# Review Session 3 - Tools of Economic Complexity\n",
    "\n",
    "Linear algebra and complexity variables\n",
    "\n",
    "**Outline**\n",
    "\n",
    "- Linear algebra basics\n",
    "- Networks - construction and metrics\n",
    "\t- Adjacency matrix\n",
    "\t- Edge lists\n",
    "\t- Degree distributions\n",
    "\t- Centrality metrics\n",
    "\t- “Network backbiting” - Michele / Frank\n",
    "- Complexity metrics\n",
    "\t- ECI / PCI / Density\n",
    "\t- Industry spaces - co-production / co-location / co-coordination\n",
    "- Density regressions\n",
    "\t- Growth vs density, country FE\n",
    "\t- Product appearances vs density, country FE"
   ]
  },
  {
   "cell_type": "code",
   "execution_count": 1,
   "id": "0a551d39-94b5-4536-9d82-47d8e8d98e07",
   "metadata": {},
   "outputs": [],
   "source": [
    "%reset -f"
   ]
  },
  {
   "cell_type": "code",
   "execution_count": 2,
   "id": "058d40f2-e5e4-4d81-b3ba-87675feda4ee",
   "metadata": {},
   "outputs": [],
   "source": [
    "import os\n",
    "import re\n",
    "import sys\n",
    "from pathlib import Path\n",
    "\n",
    "import matplotlib.pyplot as plt\n",
    "import numpy as np\n",
    "import pandas as pd\n",
    "import seaborn as sns"
   ]
  },
  {
   "cell_type": "code",
   "execution_count": 3,
   "id": "b56420c1-a15a-4632-9f2e-6b8a8577ce34",
   "metadata": {},
   "outputs": [],
   "source": [
    "PROJ = Path(os.path.realpath(\".\"))\n",
    "ROOT = PROJ.parents[1]\n",
    "DATA = ROOT / \"data/\""
   ]
  },
  {
   "cell_type": "code",
   "execution_count": 4,
   "id": "ecaee939-c30b-4332-8da9-c53b908f0d13",
   "metadata": {},
   "outputs": [],
   "source": [
    "# sys.path.append(str(PROJ))\n",
    "# sys.path.append(str(ROOT / \"src\"))\n",
    "# from gee_utils import *"
   ]
  },
  {
   "cell_type": "markdown",
   "id": "cf8ce091-81cd-4925-84a9-9a717f17c81c",
   "metadata": {},
   "source": [
    "# Linear Algebra Basics"
   ]
  },
  {
   "cell_type": "markdown",
   "id": "37a0a7c6-59fb-4842-88cc-114833a12389",
   "metadata": {},
   "source": [
    "## Arrays, matrices, and indexing"
   ]
  },
  {
   "cell_type": "code",
   "execution_count": 10,
   "id": "cbb4d68d-ee4a-47b2-ab47-b16bd328970a",
   "metadata": {},
   "outputs": [],
   "source": [
    "M = np.array([[1, 2, 3], [4, 5, 6], [7, 8, 9]])\n",
    "v = np.array([[1], [2], [3]])"
   ]
  },
  {
   "cell_type": "code",
   "execution_count": 11,
   "id": "dfaaa6ff-03cc-4288-840a-8335d4063c65",
   "metadata": {},
   "outputs": [
    {
     "data": {
      "text/plain": [
       "array([[1, 2, 3],\n",
       "       [4, 5, 6],\n",
       "       [7, 8, 9]])"
      ]
     },
     "execution_count": 11,
     "metadata": {},
     "output_type": "execute_result"
    }
   ],
   "source": [
    "M"
   ]
  },
  {
   "cell_type": "code",
   "execution_count": 12,
   "id": "45d4f10d-8a79-4c8b-90b1-52024ad27b5e",
   "metadata": {},
   "outputs": [
    {
     "data": {
      "text/plain": [
       "array([[1],\n",
       "       [2],\n",
       "       [3]])"
      ]
     },
     "execution_count": 12,
     "metadata": {},
     "output_type": "execute_result"
    }
   ],
   "source": [
    "v"
   ]
  },
  {
   "cell_type": "code",
   "execution_count": 13,
   "id": "2883e685-5b7d-4c18-b7f0-aaceb0c615f8",
   "metadata": {},
   "outputs": [
    {
     "data": {
      "text/plain": [
       "(3, 3)"
      ]
     },
     "execution_count": 13,
     "metadata": {},
     "output_type": "execute_result"
    }
   ],
   "source": [
    "M.shape"
   ]
  },
  {
   "cell_type": "code",
   "execution_count": 14,
   "id": "91f63b28-bb13-4f70-8b05-0ba88ff61b98",
   "metadata": {},
   "outputs": [
    {
     "data": {
      "text/plain": [
       "(3, 1)"
      ]
     },
     "execution_count": 14,
     "metadata": {},
     "output_type": "execute_result"
    }
   ],
   "source": [
    "v.shape"
   ]
  },
  {
   "cell_type": "code",
   "execution_count": 15,
   "id": "4ecb01e1-0f6d-4bbc-9749-16a94bda8323",
   "metadata": {},
   "outputs": [
    {
     "data": {
      "text/plain": [
       "(3,)"
      ]
     },
     "execution_count": 15,
     "metadata": {},
     "output_type": "execute_result"
    }
   ],
   "source": [
    "np.array([1, 2, 3]).shape"
   ]
  },
  {
   "cell_type": "code",
   "execution_count": 16,
   "id": "a86cdbd6-3513-4773-b952-08b22efa1e82",
   "metadata": {},
   "outputs": [
    {
     "data": {
      "text/plain": [
       "array([[1., 1., 1., 1.],\n",
       "       [1., 1., 1., 1.]])"
      ]
     },
     "execution_count": 16,
     "metadata": {},
     "output_type": "execute_result"
    }
   ],
   "source": [
    "np.ones((2, 4))"
   ]
  },
  {
   "cell_type": "code",
   "execution_count": 17,
   "id": "55b0cece-149f-4135-bb23-5e7461539540",
   "metadata": {},
   "outputs": [
    {
     "data": {
      "text/plain": [
       "array([[1, 0, 0, 0],\n",
       "       [0, 2, 0, 0],\n",
       "       [0, 0, 3, 0],\n",
       "       [0, 0, 0, 4]])"
      ]
     },
     "execution_count": 17,
     "metadata": {},
     "output_type": "execute_result"
    }
   ],
   "source": [
    "np.diag([1, 2, 3, 4])"
   ]
  },
  {
   "cell_type": "code",
   "execution_count": 19,
   "id": "2f9e502c-0f3e-4d27-9e8a-615f803d0442",
   "metadata": {},
   "outputs": [
    {
     "data": {
      "text/plain": [
       "array([[1., 0., 0.],\n",
       "       [0., 1., 0.],\n",
       "       [0., 0., 1.]])"
      ]
     },
     "execution_count": 19,
     "metadata": {},
     "output_type": "execute_result"
    }
   ],
   "source": [
    "np.eye(3)"
   ]
  },
  {
   "cell_type": "markdown",
   "id": "f10dc4da-9d86-4b7c-9355-bcd36afeab3e",
   "metadata": {},
   "source": [
    "Indexing: selecting elements of list / arrays / matrices based on their positions"
   ]
  },
  {
   "cell_type": "code",
   "execution_count": 21,
   "id": "019e0bb6-5337-4fda-b274-8b68e47f797e",
   "metadata": {},
   "outputs": [
    {
     "data": {
      "text/plain": [
       "['d', 'e']"
      ]
     },
     "execution_count": 21,
     "metadata": {},
     "output_type": "execute_result"
    }
   ],
   "source": [
    "test_list = [\"a\", \"b\", \"c\", \"d\", \"e\"]\n",
    "test_list[3:5]"
   ]
  },
  {
   "cell_type": "code",
   "execution_count": 26,
   "id": "ddced00c-adc2-44c7-8a89-28d84fa04986",
   "metadata": {},
   "outputs": [
    {
     "data": {
      "text/plain": [
       "array([100, 101, 102, 103, 104, 105, 106, 107, 108, 109, 110, 111, 112,\n",
       "       113, 114, 115, 116, 117, 118, 119])"
      ]
     },
     "execution_count": 26,
     "metadata": {},
     "output_type": "execute_result"
    }
   ],
   "source": [
    "test_arr = np.array(range(100, 120))\n",
    "test_arr"
   ]
  },
  {
   "cell_type": "code",
   "execution_count": 27,
   "id": "cd227dd1-e953-46f0-8a46-e81145b96d6e",
   "metadata": {},
   "outputs": [
    {
     "data": {
      "text/plain": [
       "array([105, 106, 107])"
      ]
     },
     "execution_count": 27,
     "metadata": {},
     "output_type": "execute_result"
    }
   ],
   "source": [
    "test_arr[5:8]"
   ]
  },
  {
   "cell_type": "code",
   "execution_count": 29,
   "id": "0c964caa-b4bf-4f14-ac66-815c1e0757b5",
   "metadata": {},
   "outputs": [
    {
     "data": {
      "text/plain": [
       "array([[51, 30, 59, 34, 59],\n",
       "       [34, 57, 34, 35, 46],\n",
       "       [40, 34, 39, 58, 33],\n",
       "       [41, 37, 46, 46, 49],\n",
       "       [39, 49, 48, 57, 58]])"
      ]
     },
     "execution_count": 29,
     "metadata": {},
     "output_type": "execute_result"
    }
   ],
   "source": [
    "test_mat = np.random.randint(30, 60, (5, 5))\n",
    "test_mat"
   ]
  },
  {
   "cell_type": "code",
   "execution_count": 32,
   "id": "dafe633a-92bf-4458-a827-6566694ddbf1",
   "metadata": {},
   "outputs": [
    {
     "data": {
      "text/plain": [
       "array([[30, 59],\n",
       "       [57, 34],\n",
       "       [34, 39]])"
      ]
     },
     "execution_count": 32,
     "metadata": {},
     "output_type": "execute_result"
    }
   ],
   "source": [
    "test_mat[:3, 1:3]"
   ]
  },
  {
   "cell_type": "markdown",
   "id": "2ad88fc3-5e48-4c5f-a981-9e5a2190a05b",
   "metadata": {},
   "source": [
    "## Dot and cross products"
   ]
  },
  {
   "cell_type": "code",
   "execution_count": 35,
   "id": "711e574f-0876-4e0f-84d8-db5b3bae7ead",
   "metadata": {},
   "outputs": [],
   "source": [
    "A = np.random.randint(0, 5, (6, 7))\n",
    "B = np.random.randint(0, 6, (7, 2))"
   ]
  },
  {
   "cell_type": "code",
   "execution_count": 36,
   "id": "94dc87d4-019c-4610-adc6-ba25a91abf5a",
   "metadata": {},
   "outputs": [
    {
     "data": {
      "text/plain": [
       "array([[39, 30],\n",
       "       [39, 46],\n",
       "       [36, 47],\n",
       "       [31, 36],\n",
       "       [28, 21],\n",
       "       [23, 49]])"
      ]
     },
     "execution_count": 36,
     "metadata": {},
     "output_type": "execute_result"
    }
   ],
   "source": [
    "A @ B"
   ]
  },
  {
   "cell_type": "code",
   "execution_count": 5,
   "id": "84357d41-82da-405f-9c6f-00e84b1116f5",
   "metadata": {},
   "outputs": [
    {
     "data": {
      "text/html": [
       "<div>\n",
       "<style scoped>\n",
       "    .dataframe tbody tr th:only-of-type {\n",
       "        vertical-align: middle;\n",
       "    }\n",
       "\n",
       "    .dataframe tbody tr th {\n",
       "        vertical-align: top;\n",
       "    }\n",
       "\n",
       "    .dataframe thead th {\n",
       "        text-align: right;\n",
       "    }\n",
       "</style>\n",
       "<table border=\"1\" class=\"dataframe\">\n",
       "  <thead>\n",
       "    <tr style=\"text-align: right;\">\n",
       "      <th></th>\n",
       "      <th>commoditycode_1</th>\n",
       "      <th>commoditycode_2</th>\n",
       "      <th>proximity</th>\n",
       "    </tr>\n",
       "  </thead>\n",
       "  <tbody>\n",
       "    <tr>\n",
       "      <th>0</th>\n",
       "      <td>0101</td>\n",
       "      <td>0101</td>\n",
       "      <td>0.000000</td>\n",
       "    </tr>\n",
       "    <tr>\n",
       "      <th>1</th>\n",
       "      <td>0101</td>\n",
       "      <td>0102</td>\n",
       "      <td>0.277778</td>\n",
       "    </tr>\n",
       "    <tr>\n",
       "      <th>2</th>\n",
       "      <td>0101</td>\n",
       "      <td>0103</td>\n",
       "      <td>0.352941</td>\n",
       "    </tr>\n",
       "    <tr>\n",
       "      <th>3</th>\n",
       "      <td>0101</td>\n",
       "      <td>0104</td>\n",
       "      <td>0.260870</td>\n",
       "    </tr>\n",
       "    <tr>\n",
       "      <th>4</th>\n",
       "      <td>0101</td>\n",
       "      <td>0105</td>\n",
       "      <td>0.296296</td>\n",
       "    </tr>\n",
       "  </tbody>\n",
       "</table>\n",
       "</div>"
      ],
      "text/plain": [
       "  commoditycode_1 commoditycode_2  proximity\n",
       "0            0101            0101   0.000000\n",
       "1            0101            0102   0.277778\n",
       "2            0101            0103   0.352941\n",
       "3            0101            0104   0.260870\n",
       "4            0101            0105   0.296296"
      ]
     },
     "execution_count": 5,
     "metadata": {},
     "output_type": "execute_result"
    }
   ],
   "source": [
    "# Load proximities\n",
    "# you could load your own saved proximity data\n",
    "proximity_url = (\n",
    "    \"http://intl-atlas-downloads.s3.amazonaws.com/atlas_2_16_6/hs92_proximities.csv\"\n",
    ")\n",
    "proximity_df = pd.read_csv(\n",
    "    proximity_url,\n",
    "    dtype={\"commoditycode_1\": str, \"commoditycode_2\": str, \"proximity\": float},\n",
    ")\n",
    "proximity_df.head()"
   ]
  }
 ],
 "metadata": {
  "kernelspec": {
   "display_name": "Python 3 (ipykernel)",
   "language": "python",
   "name": "python3"
  },
  "language_info": {
   "codemirror_mode": {
    "name": "ipython",
    "version": 3
   },
   "file_extension": ".py",
   "mimetype": "text/x-python",
   "name": "python",
   "nbconvert_exporter": "python",
   "pygments_lexer": "ipython3",
   "version": "3.9.6"
  }
 },
 "nbformat": 4,
 "nbformat_minor": 5
}
