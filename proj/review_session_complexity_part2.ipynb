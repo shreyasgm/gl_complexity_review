{
 "cells": [
  {
   "cell_type": "markdown",
   "id": "270b9b08-e5db-47e9-93dd-e327084e6e23",
   "metadata": {},
   "source": [
    "# Review Session 3 - Part 2\n",
    "\n",
    "Linear algebra and complexity variables\n",
    "\n",
    "Course: Tools of Economic Complexity\n",
    "\n",
    "**Outline**\n",
    "\n",
    "- Linear algebra basics\n",
    "- Networks - construction and metrics\n",
    "\t- Adjacency matrix\n",
    "\t- Edge lists\n",
    "\t- Degree distributions\n",
    "\t- Centrality metrics\n",
    "\t- “Network backboning” - Michele / Frank\n",
    "- Complexity metrics\n",
    "\t- ECI / PCI / Density\n",
    "\t- Industry spaces - co-production / co-location / co-coordination\n",
    "    - Predicting product appearances\n",
    "    - Backing out country CCA's\n",
    "- Density regressions\n",
    "\t- Growth vs density, country FE\n",
    "\t- Product appearances vs density, country FE\n",
    "- Growth regressions\n",
    "    - Growth vs ECI etc."
   ]
  },
  {
   "cell_type": "code",
   "execution_count": 1,
   "id": "825e3ef3-04b1-43b5-ab42-20f47c5b4932",
   "metadata": {},
   "outputs": [],
   "source": [
    "%reset -f"
   ]
  },
  {
   "cell_type": "code",
   "execution_count": 2,
   "id": "0b4214be-c809-4fdc-9142-d0411c86bedd",
   "metadata": {},
   "outputs": [],
   "source": [
    "# Helps while coding up modules to import\n",
    "%reload_ext autoreload\n",
    "%autoreload 2"
   ]
  },
  {
   "cell_type": "code",
   "execution_count": 3,
   "id": "584fe908-3244-4643-90ac-9c4636922b15",
   "metadata": {},
   "outputs": [],
   "source": [
    "# Basics\n",
    "import os\n",
    "import re\n",
    "import sys\n",
    "from pathlib import Path\n",
    "\n",
    "# Data and plotting\n",
    "import matplotlib.pyplot as plt\n",
    "\n",
    "# Networks\n",
    "import numpy as np\n",
    "import pandas as pd\n",
    "import seaborn as sns"
   ]
  },
  {
   "cell_type": "code",
   "execution_count": 4,
   "id": "6dc644d4-f14d-41e9-8cd6-059401b88449",
   "metadata": {},
   "outputs": [],
   "source": [
    "# Set file paths\n",
    "PROJ = Path(os.path.realpath(\".\"))\n",
    "ROOT = PROJ.parent\n",
    "DATA = ROOT / \"data/\""
   ]
  },
  {
   "cell_type": "markdown",
   "id": "c0e9eb85-6b47-405a-9f21-9886b69152dd",
   "metadata": {},
   "source": [
    "# Complexity Measures\n",
    "\n",
    "Using minimum conditional probability method for calculating proximity\n",
    "$$\\phi_{pp'} = \\frac{\\sum_c M_{cp} M_{cp'}}{max(U_p, U_p')}$$\n",
    "\n",
    "$$d_{cp} = \\frac{\\sum_c M_{cp'}\\phi_{pp'}}{\\sum_p \\phi_{pp'}}$$"
   ]
  },
  {
   "cell_type": "code",
   "execution_count": 6,
   "id": "76a0711e-9ebb-453d-9451-ce6a31c1f4ba",
   "metadata": {},
   "outputs": [
    {
     "data": {
      "text/html": [
       "<div>\n",
       "<style scoped>\n",
       "    .dataframe tbody tr th:only-of-type {\n",
       "        vertical-align: middle;\n",
       "    }\n",
       "\n",
       "    .dataframe tbody tr th {\n",
       "        vertical-align: top;\n",
       "    }\n",
       "\n",
       "    .dataframe thead th {\n",
       "        text-align: right;\n",
       "    }\n",
       "</style>\n",
       "<table border=\"1\" class=\"dataframe\">\n",
       "  <thead>\n",
       "    <tr style=\"text-align: right;\">\n",
       "      <th></th>\n",
       "      <th>year</th>\n",
       "      <th>export_value</th>\n",
       "      <th>import_value</th>\n",
       "      <th>export_rca</th>\n",
       "      <th>cog</th>\n",
       "      <th>distance</th>\n",
       "      <th>hs_eci</th>\n",
       "      <th>hs_coi</th>\n",
       "      <th>sitc_eci</th>\n",
       "      <th>sitc_coi</th>\n",
       "      <th>pci</th>\n",
       "      <th>location_code</th>\n",
       "      <th>location_name_short_en</th>\n",
       "      <th>hs_product_code</th>\n",
       "      <th>hs_product_name_short_en</th>\n",
       "    </tr>\n",
       "  </thead>\n",
       "  <tbody>\n",
       "    <tr>\n",
       "      <th>15</th>\n",
       "      <td>2010</td>\n",
       "      <td>0.0</td>\n",
       "      <td>5350.0</td>\n",
       "      <td>0.000000</td>\n",
       "      <td>0.067729</td>\n",
       "      <td>0.935516</td>\n",
       "      <td>1.262046</td>\n",
       "      <td>-0.145284</td>\n",
       "      <td>1.156783</td>\n",
       "      <td>0.269547</td>\n",
       "      <td>-0.005620</td>\n",
       "      <td>ABW</td>\n",
       "      <td>Aruba</td>\n",
       "      <td>0101</td>\n",
       "      <td>Horses</td>\n",
       "    </tr>\n",
       "    <tr>\n",
       "      <th>16</th>\n",
       "      <td>2011</td>\n",
       "      <td>0.0</td>\n",
       "      <td>18966.0</td>\n",
       "      <td>0.000000</td>\n",
       "      <td>0.224593</td>\n",
       "      <td>0.988999</td>\n",
       "      <td>-0.153565</td>\n",
       "      <td>-1.006434</td>\n",
       "      <td>0.074068</td>\n",
       "      <td>-0.815275</td>\n",
       "      <td>0.433045</td>\n",
       "      <td>ABW</td>\n",
       "      <td>Aruba</td>\n",
       "      <td>0101</td>\n",
       "      <td>Horses</td>\n",
       "    </tr>\n",
       "    <tr>\n",
       "      <th>17</th>\n",
       "      <td>2012</td>\n",
       "      <td>0.0</td>\n",
       "      <td>29648.0</td>\n",
       "      <td>0.000000</td>\n",
       "      <td>0.080129</td>\n",
       "      <td>0.982993</td>\n",
       "      <td>0.167140</td>\n",
       "      <td>-0.967966</td>\n",
       "      <td>0.372045</td>\n",
       "      <td>-0.742569</td>\n",
       "      <td>-0.183913</td>\n",
       "      <td>ABW</td>\n",
       "      <td>Aruba</td>\n",
       "      <td>0101</td>\n",
       "      <td>Horses</td>\n",
       "    </tr>\n",
       "    <tr>\n",
       "      <th>18</th>\n",
       "      <td>2013</td>\n",
       "      <td>6199.0</td>\n",
       "      <td>110883.0</td>\n",
       "      <td>0.080352</td>\n",
       "      <td>0.115505</td>\n",
       "      <td>0.975545</td>\n",
       "      <td>0.487088</td>\n",
       "      <td>-0.832030</td>\n",
       "      <td>0.268743</td>\n",
       "      <td>-0.656154</td>\n",
       "      <td>0.079526</td>\n",
       "      <td>ABW</td>\n",
       "      <td>Aruba</td>\n",
       "      <td>0101</td>\n",
       "      <td>Horses</td>\n",
       "    </tr>\n",
       "    <tr>\n",
       "      <th>19</th>\n",
       "      <td>2014</td>\n",
       "      <td>0.0</td>\n",
       "      <td>7500.0</td>\n",
       "      <td>0.000000</td>\n",
       "      <td>0.144265</td>\n",
       "      <td>0.982488</td>\n",
       "      <td>-0.066792</td>\n",
       "      <td>-1.000541</td>\n",
       "      <td>-0.217015</td>\n",
       "      <td>-0.913747</td>\n",
       "      <td>0.270862</td>\n",
       "      <td>ABW</td>\n",
       "      <td>Aruba</td>\n",
       "      <td>0101</td>\n",
       "      <td>Horses</td>\n",
       "    </tr>\n",
       "  </tbody>\n",
       "</table>\n",
       "</div>"
      ],
      "text/plain": [
       "    year  export_value  import_value  export_rca       cog  distance  \\\n",
       "15  2010           0.0        5350.0    0.000000  0.067729  0.935516   \n",
       "16  2011           0.0       18966.0    0.000000  0.224593  0.988999   \n",
       "17  2012           0.0       29648.0    0.000000  0.080129  0.982993   \n",
       "18  2013        6199.0      110883.0    0.080352  0.115505  0.975545   \n",
       "19  2014           0.0        7500.0    0.000000  0.144265  0.982488   \n",
       "\n",
       "      hs_eci    hs_coi  sitc_eci  sitc_coi       pci location_code  \\\n",
       "15  1.262046 -0.145284  1.156783  0.269547 -0.005620           ABW   \n",
       "16 -0.153565 -1.006434  0.074068 -0.815275  0.433045           ABW   \n",
       "17  0.167140 -0.967966  0.372045 -0.742569 -0.183913           ABW   \n",
       "18  0.487088 -0.832030  0.268743 -0.656154  0.079526           ABW   \n",
       "19 -0.066792 -1.000541 -0.217015 -0.913747  0.270862           ABW   \n",
       "\n",
       "   location_name_short_en hs_product_code hs_product_name_short_en  \n",
       "15                  Aruba            0101                   Horses  \n",
       "16                  Aruba            0101                   Horses  \n",
       "17                  Aruba            0101                   Horses  \n",
       "18                  Aruba            0101                   Horses  \n",
       "19                  Aruba            0101                   Horses  "
      ]
     },
     "execution_count": 6,
     "metadata": {},
     "output_type": "execute_result"
    }
   ],
   "source": [
    "# Download HS-4 trade data\n",
    "data_url = f\"https://intl-atlas-downloads.s3.amazonaws.com/country_hsproduct4digit_year.csv.zip\"\n",
    "trade = pd.read_csv(data_url, compression=\"zip\", low_memory=False)\n",
    "# Select years to include\n",
    "trade = trade[trade.year >=2010]\n",
    "trade.head()"
   ]
  },
  {
   "cell_type": "code",
   "execution_count": 7,
   "id": "d6e985a2-9273-406c-99c7-049869257aa7",
   "metadata": {},
   "outputs": [
    {
     "data": {
      "text/html": [
       "<div>\n",
       "<style scoped>\n",
       "    .dataframe tbody tr th:only-of-type {\n",
       "        vertical-align: middle;\n",
       "    }\n",
       "\n",
       "    .dataframe tbody tr th {\n",
       "        vertical-align: top;\n",
       "    }\n",
       "\n",
       "    .dataframe thead th {\n",
       "        text-align: right;\n",
       "    }\n",
       "</style>\n",
       "<table border=\"1\" class=\"dataframe\">\n",
       "  <thead>\n",
       "    <tr style=\"text-align: right;\">\n",
       "      <th></th>\n",
       "      <th>commoditycode_1</th>\n",
       "      <th>commoditycode_2</th>\n",
       "      <th>proximity</th>\n",
       "    </tr>\n",
       "  </thead>\n",
       "  <tbody>\n",
       "    <tr>\n",
       "      <th>0</th>\n",
       "      <td>0101</td>\n",
       "      <td>0101</td>\n",
       "      <td>0.000000</td>\n",
       "    </tr>\n",
       "    <tr>\n",
       "      <th>1</th>\n",
       "      <td>0101</td>\n",
       "      <td>0102</td>\n",
       "      <td>0.277778</td>\n",
       "    </tr>\n",
       "    <tr>\n",
       "      <th>2</th>\n",
       "      <td>0101</td>\n",
       "      <td>0103</td>\n",
       "      <td>0.352941</td>\n",
       "    </tr>\n",
       "    <tr>\n",
       "      <th>3</th>\n",
       "      <td>0101</td>\n",
       "      <td>0104</td>\n",
       "      <td>0.260870</td>\n",
       "    </tr>\n",
       "    <tr>\n",
       "      <th>4</th>\n",
       "      <td>0101</td>\n",
       "      <td>0105</td>\n",
       "      <td>0.296296</td>\n",
       "    </tr>\n",
       "  </tbody>\n",
       "</table>\n",
       "</div>"
      ],
      "text/plain": [
       "  commoditycode_1 commoditycode_2  proximity\n",
       "0            0101            0101   0.000000\n",
       "1            0101            0102   0.277778\n",
       "2            0101            0103   0.352941\n",
       "3            0101            0104   0.260870\n",
       "4            0101            0105   0.296296"
      ]
     },
     "execution_count": 7,
     "metadata": {},
     "output_type": "execute_result"
    }
   ],
   "source": [
    "# Proximities from the atlas\n",
    "proxurl = (\n",
    "    \"http://intl-atlas-downloads.s3.amazonaws.com/atlas_2_16_6/hs92_proximities.csv\"\n",
    ")\n",
    "proxdf = pd.read_csv(\n",
    "    proxurl, dtype={\"commoditycode_1\": str, \"commoditycode_2\": str, \"proximity\": float}\n",
    ")\n",
    "proxdf.head()"
   ]
  },
  {
   "cell_type": "code",
   "execution_count": 8,
   "id": "1cdef3cd-61ee-464f-ad1c-7ffedad2640b",
   "metadata": {},
   "outputs": [
    {
     "data": {
      "text/plain": [
       "{'9999', 'XXXX', 'financial', 'ict', 'transport', 'travel', 'unspecified'}"
      ]
     },
     "execution_count": 8,
     "metadata": {},
     "output_type": "execute_result"
    }
   ],
   "source": [
    "set(trade.hs_product_code.unique()) - set(proxdf.commoditycode_1.unique())"
   ]
  },
  {
   "cell_type": "code",
   "execution_count": 9,
   "id": "f9471654-5865-43a5-bf9e-1c9c4c41d93b",
   "metadata": {},
   "outputs": [],
   "source": [
    "# Filter trade data to include \"valid\" products\n",
    "trade = trade[trade.hs_product_code.isin(proxdf.commoditycode_1.unique())]"
   ]
  },
  {
   "cell_type": "code",
   "execution_count": 10,
   "id": "a2b0f976-b21f-457a-b078-def62548e7b4",
   "metadata": {},
   "outputs": [],
   "source": [
    "# Rectangularize\n",
    "def fillin(df, entities):\n",
    "    \"\"\"STATA style 'fillin', makes sure all combinations of entities in the\n",
    "    index are in the dataset.\"\"\"\n",
    "    df = df.set_index(entities)\n",
    "    df = df.reindex(pd.MultiIndex.from_product(df.index.levels, names=df.index.names))\n",
    "    return df.reset_index()"
   ]
  },
  {
   "cell_type": "code",
   "execution_count": 11,
   "id": "302bfc82-03a6-460d-9cec-40a4b0bda894",
   "metadata": {},
   "outputs": [
    {
     "data": {
      "text/plain": [
       "2035610"
      ]
     },
     "execution_count": 11,
     "metadata": {},
     "output_type": "execute_result"
    }
   ],
   "source": [
    "len(trade)"
   ]
  },
  {
   "cell_type": "code",
   "execution_count": 12,
   "id": "31301c75-7166-4631-baab-86e5ad6fbea0",
   "metadata": {},
   "outputs": [],
   "source": [
    "# Rectangularize - fill in missing combinations\n",
    "trade = fillin(trade, [\"year\", \"location_code\", \"hs_product_code\"])"
   ]
  },
  {
   "cell_type": "code",
   "execution_count": 13,
   "id": "3c4d3678-b511-4215-8afc-f63e122a0e6d",
   "metadata": {},
   "outputs": [
    {
     "data": {
      "text/plain": [
       "2057160"
      ]
     },
     "execution_count": 13,
     "metadata": {},
     "output_type": "execute_result"
    }
   ],
   "source": [
    "len(trade)"
   ]
  },
  {
   "cell_type": "code",
   "execution_count": 14,
   "id": "f5480745-cadd-4aed-ac98-a2c963e33ccd",
   "metadata": {},
   "outputs": [
    {
     "name": "stderr",
     "output_type": "stream",
     "text": [
      "/Users/shg309/miniconda/envs/localcid/lib/python3.8/site-packages/ecomplexity/ComplexityData.py:48: UserWarning: NaN value(s) present, coercing to zero(es)\n",
      "  warnings.warn(\"NaN value(s) present, coercing to zero(es)\")\n"
     ]
    },
    {
     "name": "stdout",
     "output_type": "stream",
     "text": [
      "2010\n",
      "2011\n",
      "2012\n",
      "2013\n",
      "2014\n",
      "2015\n",
      "2016\n"
     ]
    },
    {
     "data": {
      "text/html": [
       "<div>\n",
       "<style scoped>\n",
       "    .dataframe tbody tr th:only-of-type {\n",
       "        vertical-align: middle;\n",
       "    }\n",
       "\n",
       "    .dataframe tbody tr th {\n",
       "        vertical-align: top;\n",
       "    }\n",
       "\n",
       "    .dataframe thead th {\n",
       "        text-align: right;\n",
       "    }\n",
       "</style>\n",
       "<table border=\"1\" class=\"dataframe\">\n",
       "  <thead>\n",
       "    <tr style=\"text-align: right;\">\n",
       "      <th></th>\n",
       "      <th>location_code</th>\n",
       "      <th>hs_product_code</th>\n",
       "      <th>export_value</th>\n",
       "      <th>year</th>\n",
       "      <th>diversity</th>\n",
       "      <th>ubiquity</th>\n",
       "      <th>mcp</th>\n",
       "      <th>eci</th>\n",
       "      <th>pci</th>\n",
       "      <th>density</th>\n",
       "      <th>coi</th>\n",
       "      <th>cog</th>\n",
       "      <th>rca</th>\n",
       "    </tr>\n",
       "  </thead>\n",
       "  <tbody>\n",
       "    <tr>\n",
       "      <th>0</th>\n",
       "      <td>ABW</td>\n",
       "      <td>0101</td>\n",
       "      <td>0.0</td>\n",
       "      <td>2010</td>\n",
       "      <td>77.0</td>\n",
       "      <td>21.0</td>\n",
       "      <td>0.0</td>\n",
       "      <td>1.287289</td>\n",
       "      <td>0.465101</td>\n",
       "      <td>0.065219</td>\n",
       "      <td>0.011302</td>\n",
       "      <td>0.372326</td>\n",
       "      <td>0.000000</td>\n",
       "    </tr>\n",
       "    <tr>\n",
       "      <th>1</th>\n",
       "      <td>ABW</td>\n",
       "      <td>0102</td>\n",
       "      <td>0.0</td>\n",
       "      <td>2010</td>\n",
       "      <td>77.0</td>\n",
       "      <td>41.0</td>\n",
       "      <td>0.0</td>\n",
       "      <td>1.287289</td>\n",
       "      <td>-0.435292</td>\n",
       "      <td>0.071094</td>\n",
       "      <td>0.011302</td>\n",
       "      <td>-0.059898</td>\n",
       "      <td>0.000000</td>\n",
       "    </tr>\n",
       "    <tr>\n",
       "      <th>2</th>\n",
       "      <td>ABW</td>\n",
       "      <td>0103</td>\n",
       "      <td>0.0</td>\n",
       "      <td>2010</td>\n",
       "      <td>77.0</td>\n",
       "      <td>21.0</td>\n",
       "      <td>0.0</td>\n",
       "      <td>1.287289</td>\n",
       "      <td>1.996005</td>\n",
       "      <td>0.063716</td>\n",
       "      <td>0.011302</td>\n",
       "      <td>0.571354</td>\n",
       "      <td>0.000000</td>\n",
       "    </tr>\n",
       "    <tr>\n",
       "      <th>3</th>\n",
       "      <td>ABW</td>\n",
       "      <td>0104</td>\n",
       "      <td>0.0</td>\n",
       "      <td>2010</td>\n",
       "      <td>77.0</td>\n",
       "      <td>34.0</td>\n",
       "      <td>0.0</td>\n",
       "      <td>1.287289</td>\n",
       "      <td>-2.108885</td>\n",
       "      <td>0.070731</td>\n",
       "      <td>0.011302</td>\n",
       "      <td>-0.292291</td>\n",
       "      <td>0.000000</td>\n",
       "    </tr>\n",
       "    <tr>\n",
       "      <th>4</th>\n",
       "      <td>ABW</td>\n",
       "      <td>0105</td>\n",
       "      <td>2342.0</td>\n",
       "      <td>2010</td>\n",
       "      <td>77.0</td>\n",
       "      <td>31.0</td>\n",
       "      <td>0.0</td>\n",
       "      <td>1.287289</td>\n",
       "      <td>1.034382</td>\n",
       "      <td>0.069503</td>\n",
       "      <td>0.011302</td>\n",
       "      <td>0.420561</td>\n",
       "      <td>0.039898</td>\n",
       "    </tr>\n",
       "  </tbody>\n",
       "</table>\n",
       "</div>"
      ],
      "text/plain": [
       "  location_code hs_product_code  export_value  year  diversity  ubiquity  mcp  \\\n",
       "0           ABW            0101           0.0  2010       77.0      21.0  0.0   \n",
       "1           ABW            0102           0.0  2010       77.0      41.0  0.0   \n",
       "2           ABW            0103           0.0  2010       77.0      21.0  0.0   \n",
       "3           ABW            0104           0.0  2010       77.0      34.0  0.0   \n",
       "4           ABW            0105        2342.0  2010       77.0      31.0  0.0   \n",
       "\n",
       "        eci       pci   density       coi       cog       rca  \n",
       "0  1.287289  0.465101  0.065219  0.011302  0.372326  0.000000  \n",
       "1  1.287289 -0.435292  0.071094  0.011302 -0.059898  0.000000  \n",
       "2  1.287289  1.996005  0.063716  0.011302  0.571354  0.000000  \n",
       "3  1.287289 -2.108885  0.070731  0.011302 -0.292291  0.000000  \n",
       "4  1.287289  1.034382  0.069503  0.011302  0.420561  0.039898  "
      ]
     },
     "execution_count": 14,
     "metadata": {},
     "output_type": "execute_result"
    }
   ],
   "source": [
    "from ecomplexity import ecomplexity, proximity\n",
    "\n",
    "# Parameters\n",
    "trade_cols = {\n",
    "    \"time\": \"year\",\n",
    "    \"loc\": \"location_code\",\n",
    "    \"prod\": \"hs_product_code\",\n",
    "    \"val\": \"export_value\",\n",
    "}\n",
    "\n",
    "# Calculate complexity\n",
    "trade_complexity = ecomplexity(trade[list(trade_cols.values())], trade_cols)\n",
    "trade_complexity.head()"
   ]
  },
  {
   "cell_type": "code",
   "execution_count": 15,
   "id": "6bfab68f-e4c7-4296-959a-1551af47c72d",
   "metadata": {},
   "outputs": [],
   "source": [
    "# What do we know about these countries?\n"
   ]
  }
 ],
 "metadata": {
  "kernelspec": {
   "display_name": "Python 3 (ipykernel)",
   "language": "python",
   "name": "python3"
  },
  "language_info": {
   "codemirror_mode": {
    "name": "ipython",
    "version": 3
   },
   "file_extension": ".py",
   "mimetype": "text/x-python",
   "name": "python",
   "nbconvert_exporter": "python",
   "pygments_lexer": "ipython3",
   "version": "3.8.10"
  }
 },
 "nbformat": 4,
 "nbformat_minor": 5
}
